{
 "cells": [
  {
   "cell_type": "code",
   "execution_count": 1,
   "metadata": {},
   "outputs": [],
   "source": [
    "import numpy"
   ]
  },
  {
   "cell_type": "code",
   "execution_count": 2,
   "metadata": {},
   "outputs": [],
   "source": [
    "def PriorityScheduling(process):\n",
    "    process=sorted(process,key=lambda process:process[2],reverse=True)\n",
    "    global wt\n",
    "    wt=[0]*num\n",
    "    WaitingTime(process,num,wt)\n",
    "    global tat\n",
    "    tat=[0]*num\n",
    "    TurnAroundTime(process,num,wt,tat)"
   ]
  },
  {
   "cell_type": "code",
   "execution_count": 3,
   "metadata": {},
   "outputs": [],
   "source": [
    "def WaitingTime(process,num,wt):  \n",
    "    wt[0] = 0  \n",
    "    for i in range(1, num):  \n",
    "        wt[i] = process[i-1][1] + wt[i-1]  "
   ]
  },
  {
   "cell_type": "code",
   "execution_count": 4,
   "metadata": {},
   "outputs": [],
   "source": [
    "def TurnAroundTime(process,num,wt,tat):   \n",
    "    for i in range(num): \n",
    "        tat[i] = process[i][1] + wt[i]"
   ]
  },
  {
   "cell_type": "code",
   "execution_count": 5,
   "metadata": {},
   "outputs": [
    {
     "name": "stdout",
     "output_type": "stream",
     "text": [
      "Enter number of processes : \n",
      "5\n",
      "Process  1\n",
      "Enter process ID : \n",
      "1\n",
      "Enter burst time : \n",
      "5\n",
      "Enter priority : \n",
      "2\n",
      "Process  2\n",
      "Enter process ID : \n",
      "2\n",
      "Enter burst time : \n",
      "4\n",
      "Enter priority : \n",
      "3\n",
      "Process  3\n",
      "Enter process ID : \n",
      "3\n",
      "Enter burst time : \n",
      "8\n",
      "Enter priority : \n",
      "4\n",
      "Process  4\n",
      "Enter process ID : \n",
      "4\n",
      "Enter burst time : \n",
      "9\n",
      "Enter priority : \n",
      "2\n",
      "Process  5\n",
      "Enter process ID : \n",
      "5\n",
      "Enter burst time : \n",
      "7\n",
      "Enter priority : \n",
      "5\n",
      "\n",
      "ORDER OF EXECUTION : \n",
      "1 2 3 4 5 \n",
      "PROCESS ID\tBURST TIME\tWAITING TIME\tTURN AROUND \n",
      "1 \t\t 5 \t\t 0 \t\t 7\n",
      "2 \t\t 4 \t\t 7 \t\t 15\n",
      "3 \t\t 8 \t\t 15 \t\t 19\n",
      "4 \t\t 9 \t\t 19 \t\t 24\n",
      "5 \t\t 7 \t\t 24 \t\t 33\n",
      "\n",
      "Average waiting time =  13.0\n",
      "Average turn around time =  19.6\n"
     ]
    }
   ],
   "source": [
    "print(\"Enter number of processes : \")\n",
    "num=int(input())\n",
    "process=numpy.zeros((num,3)).astype(int)\n",
    "for i in range(0,num):\n",
    "    print(\"Process \",i+1)\n",
    "    print(\"Enter process ID : \")\n",
    "    process[i][0]=int(input())\n",
    "    print(\"Enter burst time : \")\n",
    "    process[i][1]=int(input())\n",
    "    print(\"Enter priority : \")\n",
    "    process[i][2]=int(input())\n",
    "PriorityScheduling(process)\n",
    "print(\"\\nORDER OF EXECUTION : \")\n",
    "\n",
    "\n",
    "for proc in process: \n",
    "        print(proc[0], end = \" \") \n",
    "print(\"\\nPROCESS ID\\tBURST TIME\\tWAITING TIME\\tTURN AROUND \")\n",
    "\n",
    "\n",
    "for i in range (0,num):\n",
    "    print(process[i][0],\"\\t\\t\",process[i][1],\"\\t\\t\",wt[i],\"\\t\\t\",tat[i])\n",
    "print(\"\\nAverage waiting time = \",(sum(wt)/num))\n",
    "print(\"Average turn around time = \",(sum(tat)/num))"
   ]
  },
  {
   "cell_type": "code",
   "execution_count": null,
   "metadata": {},
   "outputs": [],
   "source": []
  }
 ],
 "metadata": {
  "kernelspec": {
   "display_name": "Python 3",
   "language": "python",
   "name": "python3"
  },
  "language_info": {
   "codemirror_mode": {
    "name": "ipython",
    "version": 3
   },
   "file_extension": ".py",
   "mimetype": "text/x-python",
   "name": "python",
   "nbconvert_exporter": "python",
   "pygments_lexer": "ipython3",
   "version": "3.6.10"
  }
 },
 "nbformat": 4,
 "nbformat_minor": 4
}
